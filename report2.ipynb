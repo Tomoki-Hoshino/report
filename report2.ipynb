{
  "nbformat": 4,
  "nbformat_minor": 0,
  "metadata": {
    "colab": {
      "provenance": [],
      "authorship_tag": "ABX9TyObUMGQoI2xiP4iqbBqBT7e",
      "include_colab_link": true
    },
    "kernelspec": {
      "name": "python3",
      "display_name": "Python 3"
    },
    "language_info": {
      "name": "python"
    }
  },
  "cells": [
    {
      "cell_type": "markdown",
      "metadata": {
        "id": "view-in-github",
        "colab_type": "text"
      },
      "source": [
        "<a href=\"https://colab.research.google.com/github/Tomoki-Hoshino/report/blob/main/report2.ipynb\" target=\"_parent\"><img src=\"https://colab.research.google.com/assets/colab-badge.svg\" alt=\"Open In Colab\"/></a>"
      ]
    },
    {
      "cell_type": "code",
      "execution_count": 1,
      "metadata": {
        "colab": {
          "base_uri": "https://localhost:8080/"
        },
        "id": "7GVnqiN7XhpV",
        "outputId": "a1d596fc-721f-4d70-845a-0441ae08b9d1"
      },
      "outputs": [
        {
          "output_type": "stream",
          "name": "stdout",
          "text": [
            "Government total income 12171.885800000802\n",
            "pension in 1 term 997.2526090609256\n"
          ]
        }
      ],
      "source": [
        "import numpy as np\n",
        "import matplotlib.pyplot as plt\n",
        "from scipy.optimize import minimize_scalar\n",
        "\n",
        "def util(cons,gamma):\n",
        "  return max(cons, 0.0001)**(1.0-gamma)/(1.0-gamma)\n",
        "\n",
        "#parameters\n",
        "gamma = 2.0\n",
        "beta = 0.985**20\n",
        "r = 1.025**20-1.0\n",
        "jj = 60\n",
        "l = np.array([0.8027, 1.0, 1.2457])\n",
        "NL = 3\n",
        "prob = np.array([\n",
        "    [0.7451, 0.2528, 0.0021],\n",
        "    [0.1360, 0.7281, 0.1361],\n",
        "    [0.0021, 0.2528, 0.7451]\n",
        "])\n",
        "mu_1 = np.array([1.0/NL,1.0/NL,1.0/NL])\n",
        "\n",
        "mu_2 = np.zeros(NL)\n",
        "\n",
        "for il in range(NL):\n",
        "    for ilp in range(NL):\n",
        "        mu_2[ilp] += prob[il,ilp]*mu_1[il]\n",
        "\n",
        "# grids\n",
        "a_l = 0.0\n",
        "a_u = 10.0\n",
        "NA = 100\n",
        "a = np.linspace(a_l, a_u, NA)\n",
        "\n",
        "# initialization\n",
        "v = np.zeros((jj, NA, NL))\n",
        "iaplus = np.zeros((jj, NA, NL), dtype=int)\n",
        "aplus = np.zeros((jj, NA, NL))\n",
        "c = np.zeros((jj, NA, NL))\n",
        "\n",
        "middle_age = range(20, 40)\n",
        "tax_rate = 0.3\n",
        "tax_revenue = 0.0\n",
        "for ij in middle_age:\n",
        "  for il in range(NL):\n",
        "    for ia in range(NA):\n",
        "      tax_revenue += tax_rate * l[il] * mu_2[il]\n",
        "\n",
        "print(\"Government total income\",tax_revenue * len(middle_age))\n",
        "\n",
        "tax_total = tax_revenue * len(middle_age)\n",
        "tax_return = tax_total * (1 + r)\n",
        "old_age = range(40, 60)\n",
        "old_period = len(old_age)\n",
        "\n",
        "print(\"pension in 1 term\", tax_return / old_period)"
      ]
    }
  ]
}