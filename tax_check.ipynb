{
  "nbformat": 4,
  "nbformat_minor": 0,
  "metadata": {
    "colab": {
      "provenance": [],
      "authorship_tag": "ABX9TyN+JIOiJ5Kv+5p03n1cbEh4",
      "include_colab_link": true
    },
    "kernelspec": {
      "name": "python3",
      "display_name": "Python 3"
    },
    "language_info": {
      "name": "python"
    }
  },
  "cells": [
    {
      "cell_type": "markdown",
      "metadata": {
        "id": "view-in-github",
        "colab_type": "text"
      },
      "source": [
        "<a href=\"https://colab.research.google.com/github/Tomoki-Hoshino/report/blob/main/tax_check.ipynb\" target=\"_parent\"><img src=\"https://colab.research.google.com/assets/colab-badge.svg\" alt=\"Open In Colab\"/></a>"
      ]
    },
    {
      "cell_type": "code",
      "execution_count": 1,
      "metadata": {
        "colab": {
          "base_uri": "https://localhost:8080/",
          "height": 245
        },
        "id": "niQndBEyZQ-v",
        "outputId": "8f472c4e-52e0-4c7f-f139-d49e6761b0fe"
      },
      "outputs": [
        {
          "output_type": "stream",
          "name": "stdout",
          "text": [
            "Tax rate: 0.010, Aggregate expected lifetime utility: -3.6496608\n",
            "Tax rate: 0.011, Aggregate expected lifetime utility: -3.6496611\n"
          ]
        },
        {
          "output_type": "error",
          "ename": "KeyboardInterrupt",
          "evalue": "",
          "traceback": [
            "\u001b[0;31m---------------------------------------------------------------------------\u001b[0m",
            "\u001b[0;31mKeyboardInterrupt\u001b[0m                         Traceback (most recent call last)",
            "\u001b[0;32m/tmp/ipython-input-1-1262503706.py\u001b[0m in \u001b[0;36m<cell line: 0>\u001b[0;34m()\u001b[0m\n\u001b[1;32m     72\u001b[0m                   \u001b[0mEV\u001b[0m \u001b[0;34m=\u001b[0m \u001b[0;36m0.0\u001b[0m\u001b[0;34m\u001b[0m\u001b[0;34m\u001b[0m\u001b[0m\n\u001b[1;32m     73\u001b[0m                   \u001b[0;32mfor\u001b[0m \u001b[0milp\u001b[0m \u001b[0;32min\u001b[0m \u001b[0mrange\u001b[0m\u001b[0;34m(\u001b[0m\u001b[0mNL\u001b[0m\u001b[0;34m)\u001b[0m\u001b[0;34m:\u001b[0m \u001b[0;31m#期待値を取る\u001b[0m\u001b[0;34m\u001b[0m\u001b[0;34m\u001b[0m\u001b[0m\n\u001b[0;32m---> 74\u001b[0;31m                       \u001b[0mEV\u001b[0m \u001b[0;34m+=\u001b[0m \u001b[0mprob\u001b[0m\u001b[0;34m[\u001b[0m\u001b[0mil\u001b[0m\u001b[0;34m,\u001b[0m\u001b[0milp\u001b[0m\u001b[0;34m]\u001b[0m\u001b[0;34m*\u001b[0m\u001b[0mv\u001b[0m\u001b[0;34m[\u001b[0m\u001b[0mij\u001b[0m\u001b[0;34m+\u001b[0m\u001b[0;36m1\u001b[0m\u001b[0;34m,\u001b[0m\u001b[0miap\u001b[0m\u001b[0;34m,\u001b[0m\u001b[0milp\u001b[0m\u001b[0;34m]\u001b[0m \u001b[0;31m#ilpが変動する\u001b[0m\u001b[0;34m\u001b[0m\u001b[0;34m\u001b[0m\u001b[0m\n\u001b[0m\u001b[1;32m     75\u001b[0m \u001b[0;34m\u001b[0m\u001b[0m\n\u001b[1;32m     76\u001b[0m                   \u001b[0;32mif\u001b[0m \u001b[0mij\u001b[0m \u001b[0;32min\u001b[0m \u001b[0mmiddle_age\u001b[0m\u001b[0;34m:\u001b[0m\u001b[0;34m\u001b[0m\u001b[0;34m\u001b[0m\u001b[0m\n",
            "\u001b[0;31mKeyboardInterrupt\u001b[0m: "
          ]
        }
      ],
      "source": [
        "import numpy as np\n",
        "import matplotlib.pyplot as plt\n",
        "from scipy.optimize import minimize_scalar\n",
        "\n",
        "def util(cons,gamma):\n",
        "  return max(cons, 0.0001)**(1.0-gamma)/(1.0-gamma)\n",
        "\n",
        "# parameters\n",
        "gamma = 2.0\n",
        "beta = 0.985**20\n",
        "r = 1.025**20-1.0\n",
        "jj = 60\n",
        "l = np.array([0.8027, 1.0, 1.2457])\n",
        "NL = 3\n",
        "prob = np.array([\n",
        "    [0.7451, 0.2528, 0.0021],\n",
        "    [0.1360, 0.7281, 0.1361],\n",
        "    [0.0021, 0.2528, 0.7451]\n",
        "])\n",
        "mu_1 = np.array([1.0/NL,1.0/NL,1.0/NL])\n",
        "\n",
        "mu_2 = np.zeros(NL)\n",
        "\n",
        "for il in range(NL):\n",
        "    for ilp in range(NL):\n",
        "        mu_2[ilp] += prob[il,ilp]*mu_1[il]\n",
        "\n",
        "# grids\n",
        "a_l = 0.0\n",
        "a_u = 6.0\n",
        "NA = 100\n",
        "a = np.linspace(a_l, a_u, NA)\n",
        "\n",
        "# initialization\n",
        "v = np.zeros((jj, NA, NL))\n",
        "iaplus = np.zeros((jj, NA, NL), dtype=int)\n",
        "aplus = np.zeros((jj, NA, NL))\n",
        "c = np.zeros((jj, NA, NL))\n",
        "\n",
        "tax_list = np.array([0.010,0.011,0.012,0.013,0.014,0.015,0.016,0.017,0.018,0.019,0.020])\n",
        "\n",
        "for tax_rate in tax_list:\n",
        "    middle_age = range(20, 40)\n",
        "    tax_revenue = 0.0\n",
        "    for ij in middle_age:\n",
        "      for il in range(NL):\n",
        "        for ia in range(NA):\n",
        "          tax_revenue += tax_rate * l[il] * mu_2[il]\n",
        "\n",
        "    tax_total = tax_revenue * len(middle_age)\n",
        "    tax_return = tax_total * (1 + r)\n",
        "    old_age = range(40, 60)\n",
        "    old_period = len(old_age)\n",
        "    pension = tax_return / old_period\n",
        "\n",
        "    # period jj\n",
        "    for ia in range(NA):\n",
        "        for il in range(NL):\n",
        "            income = pension  # 労働所得ゼロ、年金のみ\n",
        "            cons = income + (1.0 + r) * a[ia]\n",
        "            v[jj-1, ia, il] = util(cons, gamma)\n",
        "            aplus[jj-1, ia, il] = 0.0\n",
        "            c[jj-1, ia, il] = cons\n",
        "\n",
        "    # backward induction from jj-1 to 1\n",
        "    for ij in range(jj-2, -1, -1):\n",
        "      for il in range(NL):\n",
        "          for ia in range(NA):\n",
        "              reward = np.zeros(NA)\n",
        "              for iap in range(NA):\n",
        "\n",
        "                  EV = 0.0\n",
        "                  for ilp in range(NL): #期待値を取る\n",
        "                      EV += prob[il,ilp]*v[ij+1,iap,ilp] #ilpが変動する\n",
        "\n",
        "                  if ij in middle_age:\n",
        "                        income = (1 - tax_rate) * l[il]\n",
        "                  elif ij in old_age:\n",
        "                        income = pension\n",
        "                  else:\n",
        "                        income = l[il]\n",
        "\n",
        "                  cons = income + (1.0 + r) * a[ia] - a[iap]\n",
        "                  reward[iap] = util(cons, gamma) + beta * EV\n",
        "\n",
        "              iaplus[ij, ia, il] = np.argmax(reward) #max\n",
        "              aplus[ij, ia, il] = a[iaplus[ij, ia, il]]\n",
        "              c[ij, ia, il] = l[il]+ (1.0+r)*a[ia] - a[iaplus[ij, ia, il]]\n",
        "              v[ij, ia, il] = reward[iaplus[ij, ia, il]]\n",
        "    ia0 = 0\n",
        "\n",
        "    avg_lifetime_utility = 0.0\n",
        "    for il in range(NL):\n",
        "        avg_lifetime_utility += mu_1[il] * v[0, ia0, il]\n",
        "\n",
        "    print(f\"Tax rate: {tax_rate:.3f}, Aggregate expected lifetime utility: {avg_lifetime_utility:.7f}\")\n",
        "\n",
        "#Aggregate expected lifetime utility no pension -3.649663099132112"
      ]
    }
  ]
}